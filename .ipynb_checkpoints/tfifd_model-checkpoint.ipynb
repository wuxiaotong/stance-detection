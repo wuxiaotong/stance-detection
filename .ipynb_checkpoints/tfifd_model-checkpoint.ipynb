{
 "cells": [
  {
   "cell_type": "code",
   "execution_count": 1,
   "metadata": {},
   "outputs": [],
   "source": [
    "import pandas\n",
    "import gensim\n",
    "import collections\n",
    "import numpy as np\n",
    "import math\n",
    "import pandas as pd\n",
    "from collections import defaultdict\n",
    "from gensim import corpora, models, similarities\n",
    "from gensim.models.doc2vec import Doc2Vec, LabeledSentence  "
   ]
  },
  {
   "cell_type": "code",
   "execution_count": null,
   "metadata": {},
   "outputs": [],
   "source": [
    "def splitWord(documents):\n",
    "    stoplist=set('for a of the and to in at after with'.split())  \n",
    "    texts=[[word for word in document.lower().split() if word not in stoplist] for document in documents]\n",
    "    return texts"
   ]
  },
  {
   "cell_type": "code",
   "execution_count": 2,
   "metadata": {},
   "outputs": [],
   "source": [
    "train_stance = pandas.read_csv(\"fnc-1/split/train_stances.csv\")\n",
    "train_bodies = pandas.read_csv(\"fnc-1/split/train_bodies.csv\")\n",
    "headlines = train_stance[\"Headline\"].values\n",
    "bodies = train_bodies[\"articleBody\"].values\n",
    "bodyids =  train_bodies[\"Body ID\"].values\n",
    "stances = train_stance[\"Stance\"].values\n"
   ]
  },
  {
   "cell_type": "code",
   "execution_count": 3,
   "metadata": {},
   "outputs": [
    {
     "name": "stdout",
     "output_type": "stream",
     "text": [
      "['Danny Boyle is directing the untitled film\\n\\nSeth Rogen is being eyed to play Apple co-founder Steve Wozniak in Sony’s Steve Jobs biopic.\\n\\nDanny Boyle is directing the untitled film, based on Walter Isaacson\\'s book and adapted by Aaron Sorkin, which is one of the most anticipated biopics in recent years.\\n\\nNegotiations have not yet begun, and it’s not even clear if Rogen has an official offer, but the producers — Scott Rudin, Guymon Casady and Mark Gordon — have set their sights on the talent and are in talks.\\n\\nOf course, this may all be for naught as Christian Bale, the actor who is to play Jobs, is still in the midst of closing his deal. Sources say that dealmaking process is in a sensitive stage.\\n\\nInsiders say Boyle will is flying to Los Angeles to meet with actress to play one of the female leads, an assistant to Jobs. Insiders say that Jessica Chastain is one of the actresses on the meeting list.\\n\\nWozniak, known as \"Woz,\" co-founded Apple with Jobs and Ronald Wayne. He first met Jobs when they worked at Atari and later was responsible for creating the early Apple computers.'\n",
      " '30-year-old Moscow resident was hospitalized with wounds very intimate nature. As it became known LifeNews, in the hands of doctors, the man complained that his casual acquaintance opoila in the sauna, and then gently held his castration operation. And actions criminals were executed with surgical precision - woman sewed all the smallest blood vessels.\\n\\n\\n\\n- I met a girl at the bar, and then we went to the sauna for a taxi. I remember that I had a beer, and more do not remember, - said Roman law enforcement officials.\\n\\nAt the hospital, the man hours spent in intensive care, doctors were forced to spend a second operation on the testicles.\\n\\n- I thought I had just cut, but at the hospital they told me that I removed the testicles - told Roman about his sad adventures.\\n\\n- The patient had literally jewelry operation - he cut out eggs and ligated vessels. We can say that the transactions were either physician or veterinarian - doctors say.\\n\\nInterestingly, the wife of the injured man is still convinced that her husband was in the hospital because of surgery on the genitals caused by a serious illness.'\n",
      " '(Reuters) - A Canadian soldier was shot at the Canadian war memorial in Ottawa and a shooter was seen running towards the nearby parliament buildings where more shots were fired, according to multiple media and eyewitness reports on Wednesday.\\n\\nThe buildings were put in lockdown as police and tactical teams converged on the area. The shooting comes two days after an Islamic convert ran down two Canadian soldiers, killing one, near Montreal.\\n\\n(Reporting by Andrea Hopkins; Editing by Amran Abocar)'\n",
      " ...\n",
      " \"A schoolboy who was almost killed when knocked out by a massive electric shock now claims the accident gave him superpowers like those of X-Men's Magneto.\\n\\nNikolai Kryaglyachenko, 12, had been walking home after school when he lent briefly against a lamp post that was live from a faulty wire, and was blasted across the pavement.\\n\\nHe said: 'When I came round I felt groggy but managed to get home and told my mum what had happened.\\n\\nScroll down for video\\n\\nNikolai Kryaglyachenko, 12, claims metal objects stick to him like they do to X-Men character Magneto\\n\\nNikolai pictured with a load of cutlery and coins sticking to his back. He claims he woke up with the 'superpower' after he suffered an electric shock\\n\\nStories about living magnets such as Nikolai (pictured) began to appear in the middle of the 19th century\\n\\nThe schoolboy claims to have powers similar to Magneto, from X-Men. Pictured is Sir Ian McKellan, who played the character Magneto in the movie X-Men: The Last Stand\\n\\n'When I woke up the next day and got out of bed I found some coins that had been lying on the mattress had stuck to my body. Then when I was having breakfast and dropped my spoon, it stuck to my chest.'\\n\\nHe said he is a keen fan of comics and, believing that maybe he had developed some sort of super magnetic power to attract metal like Magneto, had decided to put it to the test.\\n\\nHe said: 'I can do things I couldn't do before, but I don't have a lot of control over it. Even when I do not want to do it, I still attract things. Once I even attracted a glass - it just moved towards me.'\\n\\nNikolai added that he has now decided he wants to be a superhero when he is older, saying that he would want to do something that helped people.\\n\\nHe has also found himself one of the most popular boys at school with many of his classmates asking him to demonstrate his superpowers.\\n\\nStories about 'living magnets' began to appear at least in the middle of the 19th century.\\n\\nNikolai pictured with his classmates, who he says constantly ask him to show off his new 'superpower'\\n\\nFactory worker Leonid Tenkaev pictured in 2004. He claimed to have obtained the ability to attract metal objects following the Chernobyl nuclear disaster\\n\\nIn 2004, the story of a Russian factory worker Leonid Tenkaev and his family received extensive media coverage when he appeared to obtain the ability to attract objects after the Chernobyl nuclear disaster.\\n\\nAlthough people who have the ability to attract metal items are commonly referred to as 'magnets', many of them can also hold plastic, glass, wood and paper items on their body.\\n\\nOnly some of them develop a 'preference' for a particular material.\\n\\nIn 1990, as many as 300 'living magnets' gathered for a conference in Sofia, the capital of Bulgaria, after young woman Marinela Brankova demonstrated her amazing ability on TV. The woman could hold 7kg of metal on a vertical palm.\\n\\nScientists say however that rather than people being magnetic, it is probably nothing more than unusually sticky skin.\"\n",
      " 'The New York Post is reporting this morning that the World Health Organization is looking into whether ISIS fighters in Iraq have Ebola. Yes, that’s two catastrophes combined.\\n\\nAnd it’s not just the Post, Mashable had a piece earlier this week about reports from the Iraqi media that ISIS militants have contracted the disease. Their report, however, does contain some response from people with knowledge of whatever’s going on.\\n\\nFirstly, a WHO spokesperson told them they’ve had “no official notification” from the Iraq government about the cases. And secondly, a spokesperson for the Iraqi health ministry called the reports “incorrect” and “unfounded,” citing, for one, the the lack of “diagnostic capablities” for doctors in Iraq to confirm cases of Ebola.\\n\\n[image via Shutterstock, Steve Allen/Shutterstock]\\n\\n– –\\n\\nFollow Josh Feldman on Twitter: @feldmaniac'\n",
      " \"While the US Vogue offices are moving to 1 World Trade Center in New York City, Anna Wintour may not be making the transition anytime soon.\\n\\nA Vogue employee told Gawker that the new offices are infested with rats. And the problem is apparently so bad that the editor-in-chief is reportedly refusing to enter the premises.\\n\\nWintour, 65, has allegedly informed her staffers that the vermin must be removed before she clicks her dainty heels into their new home.\\n\\nScroll down for video\\n\\nNew digs, big problem: While the US Vogue offices are moving to 1 World Trade Center in New York City, Anna Wintour may not be making the transition anytime soon\\n\\nVogue, however, is not scheduled to move into the 1 World Trader Center until the new year, giving ample time for the removal of the rodents.\\n\\nThe staff member told Gawker the most pressing dilemma facing them had to do with fashion: 'A serious concern (laughable but I guess it makes sense) is all the clothing that could get nibbled through.'\\n\\nThe timing of the infestation comes after Vogue created an online campaign advertising their move to the new offices: 'Batten the hatches, lower Manhattan, because we're coming for you.'\\n\\nThat's one famous mover: The Instagram feed for the Conde Nast owned publication showed rapper Will.i.am carrying boxes for them\\n\\nThe Instagram feed for the Conde Nast owned publication showed rapper Will.i.am carrying boxes for them.\\n\\nMeanwhile, Wintour has defended her decision to put Kim Kardashian and Kanye West on the April cover of Vogue, but now it appears she is suggesting that the choice was 'tasteless'.\\n\\nAccording to Fashionista, the magazine editor said: 'I think if we just remain deeply tasteful and just put deeply tasteful people on the cover, it would be a rather boring magazine!'\\n\\nDay in the life: The publication was tongue in cheek about the moving process\\n\\nShe added that even from the very beginning, Vogue was never about pleasing everyone. 'The first celebrity that I put on the cover of Vogue was Madonna, and that was considered completely controversial at the time, too,' she explained.\\n\\n'It's such a long time ago probably no one remembers, but she was a very controversial figure. Now she's part of the establishment.'\\n\\nMs Wintour, 65, went on to say that if Vogue didn't reflect modern culture - even the more provocative figures within it - 'nobody would talk about us. It's very important that people do talk about us.'\"]\n"
     ]
    }
   ],
   "source": [
    "print(bodies)"
   ]
  },
  {
   "cell_type": "code",
   "execution_count": null,
   "metadata": {},
   "outputs": [],
   "source": []
  }
 ],
 "metadata": {
  "kernelspec": {
   "display_name": "Python 3",
   "language": "python",
   "name": "python3"
  },
  "language_info": {
   "codemirror_mode": {
    "name": "ipython",
    "version": 3
   },
   "file_extension": ".py",
   "mimetype": "text/x-python",
   "name": "python",
   "nbconvert_exporter": "python",
   "pygments_lexer": "ipython3",
   "version": "3.6.3"
  }
 },
 "nbformat": 4,
 "nbformat_minor": 2
}

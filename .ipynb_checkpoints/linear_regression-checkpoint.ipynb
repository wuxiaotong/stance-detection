{
 "cells": [
  {
   "cell_type": "code",
   "execution_count": 5,
   "metadata": {},
   "outputs": [],
   "source": [
    "import pandas\n",
    "import numpy as np\n",
    "from numpy import *  \n",
    "from random import seed\n",
    "from random import randrange\n",
    "from csv import reader\n",
    "from math import sqrt\n",
    "from sklearn import preprocessing\n",
    "import matplotlib.pyplot as plt  \n"
   ]
  },
  {
   "cell_type": "code",
   "execution_count": 6,
   "metadata": {},
   "outputs": [],
   "source": [
    "def loadData(loadfile, stance):  \n",
    "    train_x = []  \n",
    "    train_y = []  \n",
    "    fileIn = pandas.read_csv(loadfile)  \n",
    "    if stance != 'unrelated':\n",
    "        fileIn = fileIn[fileIn['Stance'] != 'unrelated']\n",
    "    x0 = np.ones(len(fileIn))\n",
    "    train_x = np.array([x0, fileIn['cos_sim'], fileIn['euclidean_dist']]).T\n",
    "    train_y = fileIn['Stance'].values == stance\n",
    "    \n",
    "    return train_x, train_y"
   ]
  },
  {
   "cell_type": "code",
   "execution_count": 7,
   "metadata": {},
   "outputs": [],
   "source": [
    "def predict(B, X):\n",
    "    return X.dot(B)\n",
    "\n",
    "def cost_function(X, Y, B):\n",
    "    m = len(Y)\n",
    "    J = np.sum((X.dot(B) - Y) ** 2)/(2 * m)\n",
    "    return J\n",
    "\n",
    "def gradient_descent(X, Y, B, alpha, iterations):\n",
    "    ySize = len(Y)\n",
    "   \n",
    "    for i in range(iterations):\n",
    "        output = X.dot(B)\n",
    "        loss = output - Y\n",
    "        gradient = X.T.dot(loss) / ySize       \n",
    "        B = B - alpha * gradient\n",
    "        cost = cost_function(X, Y, B)\n",
    "        \n",
    "    print('iterations:', iterations, 'cost:', cost)     \n",
    "    return B"
   ]
  },
  {
   "cell_type": "code",
   "execution_count": 8,
   "metadata": {
    "scrolled": true
   },
   "outputs": [
    {
     "name": "stdout",
     "output_type": "stream",
     "text": [
      "iteration: 2999 cost: 0.05106038881558377\n",
      "iteration: 2999 cost: 0.09925847624896811\n",
      "iteration: 2999 cost: 0.02932252745633512\n",
      "iteration: 2999 cost: 0.1112503877124701\n"
     ]
    }
   ],
   "source": [
    "min_max_scaler = preprocessing.MinMaxScaler()\n",
    "\n",
    "train_x_unrelated, train_y_unrelated = loadData('fnc-1/split/train_stances_sim.csv', 'unrelated')\n",
    "train_x_agree, train_y_agree = loadData('fnc-1/split/train_stances_sim.csv', 'agree') \n",
    "train_x_disagree, train_y_disagree = loadData('fnc-1/split/train_stances_sim.csv', 'disagree')\n",
    "train_x_discuss, train_y_discuss = loadData('fnc-1/split/train_stances_sim.csv', 'discuss')\n",
    "\n",
    "B = np.array([0, 0, 0])\n",
    "alpha = 0.02\n",
    "train_x_unrelated = min_max_scaler.fit_transform(train_x_unrelated)\n",
    "train_x_agree = min_max_scaler.fit_transform(train_x_agree)\n",
    "train_x_disagree = min_max_scaler.fit_transform(train_x_disagree)\n",
    "train_x_discuss = min_max_scaler.fit_transform(train_x_discuss)\n",
    "\n",
    "B_unrelated = gradient_descent(train_x_unrelated, train_y_unrelated, B, alpha, 3000)\n",
    "B_agree = gradient_descent(train_x_agree, train_y_agree, B, alpha, 3000)\n",
    "B_disagree = gradient_descent(train_x_disagree, train_y_disagree, B, alpha, 3000)\n",
    "B_discuss = gradient_descent(train_x_discuss, train_y_discuss, B, alpha, 3000)\n"
   ]
  },
  {
   "cell_type": "code",
   "execution_count": 9,
   "metadata": {},
   "outputs": [
    {
     "name": "stdout",
     "output_type": "stream",
     "text": [
      "x_shape (44974, 3)\n",
      "y_shape (44974,)\n"
     ]
    }
   ],
   "source": [
    "print('x_shape',train_x_unrelated.shape)\n",
    "print('y_shape',train_y_unrelated.shape)"
   ]
  },
  {
   "cell_type": "code",
   "execution_count": 10,
   "metadata": {},
   "outputs": [
    {
     "name": "stdout",
     "output_type": "stream",
     "text": [
      "test accuracy: 0.8793517406962785\n"
     ]
    }
   ],
   "source": [
    "validation_data = pandas.read_csv('fnc-1/split/validation_stances_sim.csv')\n",
    "x0 = np.ones(len(validation_data))\n",
    "validation_x = np.array([x0, validation_data['cos_sim'], validation_data['euclidean_dist']]).T\n",
    "validation_x = min_max_scaler.fit_transform(validation_x)\n",
    "\n",
    "validation_predict_unrelated = predict(B_unrelated, validation_x)\n",
    "validation_predict_agree = predict(B_agree, validation_x)\n",
    "validation_predict_disagree = predict(B_disagree, validation_x)\n",
    "validation_predict_discuss = predict(B_discuss, validation_x)\n",
    "\n",
    "result = np.vstack((validation_predict_unrelated, validation_predict_agree, \n",
    "                    validation_predict_disagree, validation_predict_discuss)).T\n",
    "\n",
    "# print(result)\n",
    "result = result.argmax(1)\n",
    "result_stance = []\n",
    "\n",
    "for i in range(len(result)):\n",
    "    if result[i] == 0:\n",
    "        result_stance.append('unrelated')\n",
    "    elif result[i] == 1:\n",
    "        result_stance.append('agree')\n",
    "    elif result[i] == 2:\n",
    "        result_stance.append('disagree')\n",
    "    else:\n",
    "        result_stance.append('discuss')\n",
    "# print(result_stance)\n",
    "print('test accuracy:', sum(result_stance == validation_data['Stance'])/ len(result_stance))"
   ]
  },
  {
   "cell_type": "code",
   "execution_count": 11,
   "metadata": {},
   "outputs": [
    {
     "data": {
      "image/png": "[encoded data removed]",
      "text/plain": [
       "<Figure size 432x288 with 1 Axes>"
      ]
     },
     "metadata": {},
     "output_type": "display_data"
    }
   ],
   "source": [
    "result_sum = []\n",
    "result_sum.append(sum(np.array(result_stance) == 'unrelated'))\n",
    "result_sum.append(sum(np.array(result_stance) == 'agree'))\n",
    "result_sum.append(sum(np.array(result_stance) == 'disagree'))\n",
    "result_sum.append(sum(np.array(result_stance) == 'discuss'))\n",
    "plt.bar(['unrelated', 'disagree', 'agree', 'discuss'], result_sum)\n",
    "for a,b in zip(['unrelated', 'disagree', 'agree', 'discuss'],result_sum):\n",
    "    plt.text(a, b+0.05, '%.0f' % b, ha='center', va= 'bottom',fontsize=10)\n",
    "plt.show()  "
   ]
  },
  {
   "cell_type": "code",
   "execution_count": 12,
   "metadata": {},
   "outputs": [
    {
     "data": {
      "image/png": "[encoded data removed]",
      "text/plain": [
       "<Figure size 432x288 with 1 Axes>"
      ]
     },
     "metadata": {},
     "output_type": "display_data"
    }
   ],
   "source": [
    "validataion_sum = []\n",
    "validataion_sum.append(sum(validation_data['Stance'] == 'unrelated'))\n",
    "validataion_sum.append(sum(validation_data['Stance'] == 'agree'))\n",
    "validataion_sum.append(sum(validation_data['Stance'] == 'disagree'))\n",
    "validataion_sum.append(sum(validation_data['Stance'] == 'discuss'))\n",
    "plt.bar(['unrelated', 'disagree', 'agree', 'discuss'], validataion_sum)  \n",
    "for a,b in zip(['unrelated', 'disagree', 'agree', 'discuss'],validataion_sum):\n",
    "    plt.text(a, b+0.05, '%.0f' % b, ha='center', va= 'bottom',fontsize=7)\n",
    "\n",
    "plt.show()  \n"
   ]
  },
  {
   "cell_type": "code",
   "execution_count": null,
   "metadata": {},
   "outputs": [],
   "source": []
  }
 ],
 "metadata": {
  "kernelspec": {
   "display_name": "Python 3",
   "language": "python",
   "name": "python3"
  },
  "language_info": {
   "codemirror_mode": {
    "name": "ipython",
    "version": 3
   },
   "file_extension": ".py",
   "mimetype": "text/x-python",
   "name": "python",
   "nbconvert_exporter": "python",
   "pygments_lexer": "ipython3",
   "version": "3.6.3"
  }
 },
 "nbformat": 4,
 "nbformat_minor": 2
}

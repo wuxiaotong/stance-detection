{
 "cells": [
  {
   "cell_type": "code",
   "execution_count": 11,
   "metadata": {},
   "outputs": [],
   "source": [
    "from numpy import *  \n",
    "from sklearn import preprocessing\n",
    "import matplotlib.pyplot as plt  \n",
    "import time  \n",
    "import pandas\n",
    "import numpy as np"
   ]
  },
  {
   "cell_type": "code",
   "execution_count": 12,
   "metadata": {},
   "outputs": [],
   "source": [
    "def sigmoid(inX):  \n",
    "    return 1.0 / (1 + exp(-inX))  "
   ]
  },
  {
   "cell_type": "code",
   "execution_count": 13,
   "metadata": {},
   "outputs": [],
   "source": [
    "def trainLogRegres(train_x, train_y, opts):  \n",
    "    # calculate training time  \n",
    "    startTime = time.time()  \n",
    "\n",
    "    xSize, weightSize = shape(train_x)  \n",
    "    alpha = opts['alpha']; \n",
    "    iteration = opts['iteration']  \n",
    "    weights = ones((weightSize,1))  \n",
    "\n",
    "    for k in range(iteration):  \n",
    "        if opts['optimizeType'] == 'gradDescent': # gradient descent algorilthm  \n",
    "            output = sigmoid(np.dot(train_x, weights))  \n",
    "            error = train_y - output\n",
    "            weights = weights + alpha * train_x.transpose() * error  \n",
    "        elif opts['optimizeType'] == 'stocGradDescent': # stochastic gradient descent  \n",
    "            for i in range(xSize):  \n",
    "                output = sigmoid(train_x[i, :] * weights)  \n",
    "                error = train_y[i, 0] - output  \n",
    "                weights = weights + alpha * train_x[i, :].transpose() * error  \n",
    "        elif opts['optimizeType'] == 'smoothStocGradDescent': # smooth stochastic gradient descent  \n",
    "            dataIndex = range(xSize)  \n",
    "            for i in range(xSize):  \n",
    "                alpha = 4.0 / (1.0 + k + i) + 0.01  \n",
    "                randIndex = int(random.uniform(0, len(dataIndex)))  \n",
    "                output = sigmoid(train_x[randIndex, :] * weights)  \n",
    "                error = train_y[randIndex, 0] - output  \n",
    "                weights = weights + alpha * train_x[randIndex, :].transpose() * error  \n",
    "                continue   \n",
    "        else:  \n",
    "            raise NameError('Not optimize method type!')  \n",
    "\n",
    "    print('Congratulations, training complete! Took %fs!' % (time.time() - startTime))\n",
    "    # print(weights)\n",
    "    return weights  "
   ]
  },
  {
   "cell_type": "code",
   "execution_count": 14,
   "metadata": {},
   "outputs": [],
   "source": [
    "def testLogRegres(weights, test_x, test_y):  \n",
    "    xSize, weightSize = shape(test_x)  \n",
    "    matchCount = 0  \n",
    "    for i in range(xSize):  \n",
    "        predict = sigmoid(test_x[i, :] * weights)[0, 0] > 0.5  \n",
    "        if predict == bool(test_y[i, 0]):  \n",
    "            matchCount += 1  \n",
    "    accuracy = float(matchCount) / xSize  \n",
    "    print('accuracy:',accuracy)\n",
    "    return accuracy "
   ]
  },
  {
   "cell_type": "code",
   "execution_count": 15,
   "metadata": {},
   "outputs": [],
   "source": [
    "def predict(weights, test_x):\n",
    "    predict = sigmoid(test_x * weights)\n",
    "    return predict"
   ]
  },
  {
   "cell_type": "code",
   "execution_count": 16,
   "metadata": {},
   "outputs": [],
   "source": [
    "def loadData(loadfile, stance):  \n",
    "    train_x = []  \n",
    "    train_y = []  \n",
    "    fileIn = pandas.read_csv(loadfile)  \n",
    "    train_x = fileIn[['cos_sim', 'euclidean_dist','kl_list']].values\n",
    "    train_y = fileIn['Stance'].values == stance\n",
    "\n",
    "    return mat(train_x), mat(train_y).transpose()"
   ]
  },
  {
   "cell_type": "code",
   "execution_count": 17,
   "metadata": {
    "scrolled": false
   },
   "outputs": [
    {
     "name": "stderr",
     "output_type": "stream",
     "text": [
      "/Library/Frameworks/Python.framework/Versions/3.6/lib/python3.6/site-packages/ipykernel_launcher.py:2: RuntimeWarning: overflow encountered in exp\n",
      "  \n"
     ]
    },
    {
     "name": "stdout",
     "output_type": "stream",
     "text": [
      "Congratulations, training complete! Took 0.247019s!\n",
      "Congratulations, training complete! Took 0.282863s!\n",
      "Congratulations, training complete! Took 0.261999s!\n",
      "Congratulations, training complete! Took 0.239169s!\n",
      "accuracy: 0.9629563747943256\n",
      "accuracy: 0.926535331524881\n",
      "accuracy: 0.9799884377640414\n",
      "accuracy: 0.8369502379152399\n"
     ]
    }
   ],
   "source": [
    "min_max_scaler = preprocessing.MinMaxScaler()\n",
    "\n",
    "opts_unrelated = {'alpha': 0.02, 'iteration': 150, 'optimizeType': 'gradDescent'}  \n",
    "opts_agree = {'alpha': 0.02, 'iteration': 150, 'optimizeType': 'gradDescent'}  \n",
    "opts_disagree = {'alpha': 0.02, 'iteration': 150, 'optimizeType': 'gradDescent'}  \n",
    "opts_discuss = {'alpha': 0.02, 'iteration': 150, 'optimizeType': 'gradDescent'}  \n",
    "\n",
    "train_x_unrelated, train_y_unrelated = loadData('fnc-1/split/train_stances_sim.csv', 'unrelated')\n",
    "train_x_agree, train_y_agree = loadData('fnc-1/split/train_stances_sim.csv', 'agree') \n",
    "train_x_disagree, train_y_disagree = loadData('fnc-1/split/train_stances_sim.csv', 'disagree')\n",
    "train_x_discuss, train_y_discuss = loadData('fnc-1/split/train_stances_sim.csv', 'discuss')\n",
    "\n",
    "# train_x_unrelated = min_max_scaler.fit_transform(train_x_unrelated)\n",
    "# train_x_agree = min_max_scaler.fit_transform(train_x_agree)\n",
    "# train_x_disagree = min_max_scaler.fit_transform(train_x_disagree)\n",
    "# train_x_discuss = min_max_scaler.fit_transform(train_x_discuss)\n",
    "\n",
    "optimalWeights_unrelated = trainLogRegres(train_x_unrelated, train_y_unrelated, opts_unrelated)\n",
    "optimalWeights_agree = trainLogRegres(train_x_agree, train_y_agree, opts_agree) \n",
    "optimalWeights_disagree = trainLogRegres(train_x_disagree, train_y_disagree, opts_disagree) \n",
    "optimalWeights_discuss = trainLogRegres(train_x_discuss, train_y_discuss, opts_discuss)  \n",
    "\n",
    "\n",
    "accuracy_unrelated = testLogRegres(optimalWeights_unrelated, train_x_unrelated, train_y_unrelated)\n",
    "accuracy_agree = testLogRegres(optimalWeights_agree, train_x_agree, train_y_agree)\n",
    "accuracy_disagree = testLogRegres(optimalWeights_disagree, train_x_disagree, train_y_disagree)\n",
    "accuracy_discuss = testLogRegres(optimalWeights_discuss, train_x_discuss, train_y_discuss)"
   ]
  },
  {
   "cell_type": "code",
   "execution_count": 18,
   "metadata": {},
   "outputs": [
    {
     "name": "stdout",
     "output_type": "stream",
     "text": [
      "test accuracy: 0.8389355742296919\n"
     ]
    },
    {
     "name": "stderr",
     "output_type": "stream",
     "text": [
      "/Library/Frameworks/Python.framework/Versions/3.6/lib/python3.6/site-packages/ipykernel_launcher.py:2: RuntimeWarning: overflow encountered in exp\n",
      "  \n"
     ]
    }
   ],
   "source": [
    "validation_data = pandas.read_csv('fnc-1/split/validation_stances_sim.csv')\n",
    "validation_x = validation_data[['cos_sim', 'euclidean_dist','kl_list']].values\n",
    "validation_x = min_max_scaler.fit_transform(validation_x)\n",
    "\n",
    "validation_predict_unrelated = predict(optimalWeights_unrelated, validation_x)\n",
    "validation_predict_agree = predict(optimalWeights_agree, validation_x)\n",
    "validation_predict_disagree = predict(optimalWeights_disagree, validation_x)\n",
    "validation_predict_discuss = predict(optimalWeights_discuss, validation_x)\n",
    "\n",
    "result = np.hstack((validation_predict_unrelated, validation_predict_agree, \n",
    "                    validation_predict_disagree, validation_predict_discuss))\n",
    "result = result.argmax(1)\n",
    "result_stance = []\n",
    "\n",
    "\n",
    "for i in range(len(result)):\n",
    "    if result[i] == 0:\n",
    "        result_stance.append('unrelated')\n",
    "    elif result[i] == 1:\n",
    "        result_stance.append('agree')\n",
    "    elif result[i] == 2:\n",
    "        result_stance.append('disagree')\n",
    "    else:\n",
    "        result_stance.append('discuss')\n",
    "# print(result_stance == validation_data['Stance'])\n",
    "print('test accuracy:', sum(result_stance == validation_data['Stance'])/ len(result_stance))"
   ]
  },
  {
   "cell_type": "code",
   "execution_count": 19,
   "metadata": {},
   "outputs": [
    {
     "data": {
      "image/png": "[encoded data removed]",
      "text/plain": [
       "<Figure size 432x288 with 1 Axes>"
      ]
     },
     "metadata": {},
     "output_type": "display_data"
    }
   ],
   "source": [
    "result_sum = []\n",
    "result_sum.append(sum(np.array(result_stance) == 'unrelated'))\n",
    "result_sum.append(sum(np.array(result_stance) == 'disagree'))\n",
    "result_sum.append(sum(np.array(result_stance) == 'agree'))\n",
    "result_sum.append(sum(np.array(result_stance) == 'discuss'))\n",
    "plt.bar(['unrelated', 'disagree', 'agree', 'discuss'], result_sum)  \n",
    "for a,b in zip(['unrelated', 'disagree', 'agree', 'discuss'], result_sum):\n",
    "    plt.text(a, b+0.05, '%.0f' % b, ha='center', va= 'bottom',fontsize=10)\n",
    "plt.show()  "
   ]
  },
  {
   "cell_type": "code",
   "execution_count": 20,
   "metadata": {},
   "outputs": [
    {
     "data": {
      "image/png": "[encoded data removed]",
      "text/plain": [
       "<Figure size 432x288 with 1 Axes>"
      ]
     },
     "metadata": {},
     "output_type": "display_data"
    }
   ],
   "source": [
    "validataion_sum = []\n",
    "validataion_sum.append(sum(validation_data['Stance'] == 'unrelated'))\n",
    "validataion_sum.append(sum(validation_data['Stance'] == 'agree'))\n",
    "validataion_sum.append(sum(validation_data['Stance'] == 'disagree'))\n",
    "validataion_sum.append(sum(validation_data['Stance'] == 'discuss'))\n",
    "plt.bar(['unrelated', 'disagree', 'agree', 'discuss'], validataion_sum) \n",
    "for a,b in zip(['unrelated', 'disagree', 'agree', 'discuss'],result_sum):\n",
    "    plt.text(a, b+0.05, '%.0f' % b, ha='center', va= 'bottom',fontsize=10)\n",
    "plt.show()  "
   ]
  },
  {
   "cell_type": "code",
   "execution_count": null,
   "metadata": {},
   "outputs": [],
   "source": []
  }
 ],
 "metadata": {
  "kernelspec": {
   "display_name": "Python 3",
   "language": "python",
   "name": "python3"
  },
  "language_info": {
   "codemirror_mode": {
    "name": "ipython",
    "version": 3
   },
   "file_extension": ".py",
   "mimetype": "text/x-python",
   "name": "python",
   "nbconvert_exporter": "python",
   "pygments_lexer": "ipython3",
   "version": "3.6.3"
  }
 },
 "nbformat": 4,
 "nbformat_minor": 2
}

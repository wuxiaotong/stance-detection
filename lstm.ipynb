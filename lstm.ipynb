{
 "cells": [
  {
   "cell_type": "code",
   "execution_count": 5,
   "metadata": {},
   "outputs": [],
   "source": [
    "import os\n",
    "import keras\n",
    "import pickle\n",
    "import matplotlib.pyplot as plt\n",
    "import numpy as np\n",
    "import sklearn\n",
    "import pandas as pd\n",
    "from numpy import *  \n",
    "from keras.models import Sequential\n",
    "from keras.layers import Convolution2D, Reshape, Dense, Dropout, Convolution1D, Activation, GlobalMaxPooling1D, LSTM, Conv1D, MaxPooling1D, Activation\n",
    "from keras.optimizers import SGD,Adam\n",
    "from keras.callbacks import EarlyStopping,ModelCheckpoint\n",
    "from keras import regularizers\n",
    "from keras import losses\n"
   ]
  },
  {
   "cell_type": "code",
   "execution_count": 6,
   "metadata": {},
   "outputs": [],
   "source": [
    "def loadData(loadfile):  \n",
    "    train_x = []  \n",
    "    train_y = []  \n",
    "    fileIn = pandas.read_csv(loadfile)  \n",
    "    \n",
    "    train_x = fileIn[['cos_sim', 'euclidean_dist','kl_list']].values\n",
    "    train_y = pd.get_dummies(fileIn['Stance'].values)\n",
    "    train_x = np.expand_dims(train_x, axis=1)\n",
    "    return train_x, train_y"
   ]
  },
  {
   "cell_type": "code",
   "execution_count": 7,
   "metadata": {},
   "outputs": [],
   "source": [
    "x_train, y_train = loadData('dataset/fnc-1/split/train_stances_sim.csv')"
   ]
  },
  {
   "cell_type": "code",
   "execution_count": 8,
   "metadata": {},
   "outputs": [
    {
     "name": "stdout",
     "output_type": "stream",
     "text": [
      "(44974, 4)\n",
      "(44974, 1, 3)\n"
     ]
    }
   ],
   "source": [
    "print(y_train.shape)\n",
    "print(x_train.shape)"
   ]
  },
  {
   "cell_type": "code",
   "execution_count": 59,
   "metadata": {},
   "outputs": [
    {
     "name": "stdout",
     "output_type": "stream",
     "text": [
      "_________________________________________________________________\n",
      "Layer (type)                 Output Shape              Param #   \n",
      "=================================================================\n",
      "lstm_15 (LSTM)               (None, 1, 32)             4608      \n",
      "_________________________________________________________________\n",
      "dropout_15 (Dropout)         (None, 1, 32)             0         \n",
      "_________________________________________________________________\n",
      "lstm_16 (LSTM)               (None, 128)               82432     \n",
      "_________________________________________________________________\n",
      "dropout_16 (Dropout)         (None, 128)               0         \n",
      "_________________________________________________________________\n",
      "dense_8 (Dense)              (None, 4)                 516       \n",
      "=================================================================\n",
      "Total params: 87,556\n",
      "Trainable params: 87,556\n",
      "Non-trainable params: 0\n",
      "_________________________________________________________________\n"
     ]
    }
   ],
   "source": [
    "model = Sequential()\n",
    "input_dim = x_train.shape[1]\n",
    "output_dim = y_train.shape[1]\n",
    "hidden_dims = 280\n",
    "model.add(LSTM(32, return_sequences=True,\n",
    "               input_shape=(1, x_train.shape[2]), kernel_regularizer=regularizers.l2(0.01),\n",
    "                activity_regularizer=regularizers.l1(0.01)))  # returns a sequence of vectors of dimension 32\n",
    "model.add(Dropout(0.4))\n",
    "model.add(LSTM(128))  # return a single vector of dimension 32\n",
    "model.add(Dropout(0.2))\n",
    "model.add(Dense(output_dim, activation='sigmoid'))\n",
    "\n",
    "adam = keras.optimizers.Adam(lr=0.0001)\n",
    "model.compile(optimizer='adam', loss='binary_crossentropy', metrics=['accuracy'])\n",
    "model.summary()"
   ]
  },
  {
   "cell_type": "code",
   "execution_count": 60,
   "metadata": {},
   "outputs": [
    {
     "name": "stdout",
     "output_type": "stream",
     "text": [
      "Epoch 1/5\n",
      "44974/44974 [==============================] - 10s 213us/step - loss: 0.4410 - acc: 0.8648\n",
      "Epoch 2/5\n",
      "44974/44974 [==============================] - 6s 144us/step - loss: 0.3512 - acc: 0.8657\n",
      "Epoch 3/5\n",
      "44974/44974 [==============================] - 6s 143us/step - loss: 0.3021 - acc: 0.8894\n",
      "Epoch 4/5\n",
      "44974/44974 [==============================] - 6s 135us/step - loss: 0.2483 - acc: 0.9178\n",
      "Epoch 5/5\n",
      "44974/44974 [==============================] - 6s 141us/step - loss: 0.2283 - acc: 0.9242\n"
     ]
    }
   ],
   "source": [
    "earlystopper = EarlyStopping(monitor='loss', patience=2, verbose=0)\n",
    "\n",
    "history = model.fit(x_train, y_train,\n",
    "          epochs=5,\n",
    "          batch_size=64,\n",
    "          callbacks=[earlystopper])\n"
   ]
  },
  {
   "cell_type": "code",
   "execution_count": 61,
   "metadata": {},
   "outputs": [
    {
     "name": "stdout",
     "output_type": "stream",
     "text": [
      "[3 3 3 ... 2 2 2]\n"
     ]
    }
   ],
   "source": [
    "x_valid, y_valid = loadData('dataset/fnc-1/split/validation_stances_sim.csv')\n",
    "prob_y_valid = model.predict(x_valid, batch_size=64)\n",
    "result = prob_y_valid.argmax(1)\n",
    "print(prob_y_valid.argmax(1))"
   ]
  },
  {
   "cell_type": "code",
   "execution_count": 62,
   "metadata": {},
   "outputs": [],
   "source": [
    "fileIn = pandas.read_csv('dataset/fnc-1/split/validation_stances_sim.csv')\n",
    "valid_stances = fileIn['Stance'].values"
   ]
  },
  {
   "cell_type": "code",
   "execution_count": 63,
   "metadata": {},
   "outputs": [
    {
     "name": "stdout",
     "output_type": "stream",
     "text": [
      "test accuracy: 0.8619447779111644\n"
     ]
    }
   ],
   "source": [
    "result_stance = []\n",
    "for i in range(len(result)):\n",
    "    if result[i] == 0:\n",
    "        result_stance.append('agree')\n",
    "    elif result[i] == 1:\n",
    "        result_stance.append('disagree')\n",
    "    elif result[i] == 2:\n",
    "        result_stance.append('discuss')\n",
    "    else:\n",
    "        result_stance.append('unrelated')\n",
    "\n",
    "print('test accuracy:', sum(result_stance == valid_stances)/ len(result_stance))"
   ]
  },
  {
   "cell_type": "code",
   "execution_count": 64,
   "metadata": {},
   "outputs": [
    {
     "data": {
      "image/png": "[encoded data removed]",
      "text/plain": [
       "<Figure size 432x288 with 1 Axes>"
      ]
     },
     "metadata": {},
     "output_type": "display_data"
    }
   ],
   "source": [
    "result_sum = []\n",
    "result_sum.append(sum(np.array(result_stance) == 'unrelated'))\n",
    "result_sum.append(sum(np.array(result_stance) == 'disagree'))\n",
    "result_sum.append(sum(np.array(result_stance) == 'agree'))\n",
    "result_sum.append(sum(np.array(result_stance) == 'discuss'))\n",
    "plt.bar(['unrelated', 'disagree', 'agree', 'discuss'], result_sum)  \n",
    "for a,b in zip(['unrelated', 'disagree', 'agree', 'discuss'], result_sum):\n",
    "    plt.text(a, b+0.05, '%.0f' % b, ha='center', va= 'bottom',fontsize=10)\n",
    "plt.show() "
   ]
  },
  {
   "cell_type": "code",
   "execution_count": null,
   "metadata": {},
   "outputs": [],
   "source": []
  }
 ],
 "metadata": {
  "kernelspec": {
   "display_name": "Python 3",
   "language": "python",
   "name": "python3"
  },
  "language_info": {
   "codemirror_mode": {
    "name": "ipython",
    "version": 3
   },
   "file_extension": ".py",
   "mimetype": "text/x-python",
   "name": "python",
   "nbconvert_exporter": "python",
   "pygments_lexer": "ipython3",
   "version": "3.6.3"
  }
 },
 "nbformat": 4,
 "nbformat_minor": 2
}
